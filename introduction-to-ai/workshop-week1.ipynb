{
 "cells": [
  {
   "cell_type": "markdown",
   "metadata": {
    "tags": []
   },
   "source": [
    "# **Workshop Week 1**\n",
    "## Introduction to Python - Part 1\n",
    "\n",
    "* At the end of this workshop, you should be able to execute each cell and explain what it does. \n",
    "* Work on the excercises and compare your solution with the one provided in workshop1-solution.ipynb.\n",
    "* ChatGPT can help: you can ask ChatGPT to check the correctness of your solution. You can also ask ChatGPT to produce sample solution and cmpare it against yours. Here is an example you can paste into ChatGPT and see the magic: \n",
    "\n",
    "        Could you please check if the following code is correct for \"Write a piece of code that declares a variable called `'my_float'` and assign the value 25 to it. Then print its value and type. What is its type? What do you need to do to make it a float instead of int?\" \n",
    "\n",
    "    my_float = 25\n",
    "    print(my_float)\n",
    "    print(type(my_float))\n",
    "    my_float = float(my_float)\n",
    "    print(my_float)\n",
    "    print(type(my_float))\n"
   ]
  },
  {
   "cell_type": "markdown",
   "metadata": {},
   "source": []
  },
  {
   "cell_type": "markdown",
   "metadata": {},
   "source": [
    "### <span style=\"color:#0b486b\">1. \"Hello World!\"</span>"
   ]
  },
  {
   "cell_type": "code",
   "execution_count": null,
   "metadata": {},
   "outputs": [
    {
     "name": "stdout",
     "output_type": "stream",
     "text": [
      "Hello World!!\n",
      "Welcome to SIT 112 Data Science Concepts\n",
      "[1, 2, 3, 4, 5, 6, 7, 8]\n"
     ]
    },
    {
     "data": {
      "text/plain": [
       "list"
      ]
     },
     "execution_count": 1,
     "metadata": {},
     "output_type": "execute_result"
    }
   ],
   "source": [
    "print(\"Hello World!!\")\n",
    "print(\"Welcome to SIT 112 Data Science Concepts\")\n",
    "a = [1, 2, 3, 4, 5, 6, 7, 8]\n",
    "print(a)\n",
    "type(a)"
   ]
  },
  {
   "cell_type": "markdown",
   "metadata": {},
   "source": [
    "**Note:** the difference in the syntax. Python 3.x uses a slightly different syntax from 2.x version. This unit will use python 3."
   ]
  },
  {
   "cell_type": "markdown",
   "metadata": {},
   "source": [
    "---\n",
    "### <span style=\"color:#0b486b\">2. Commenting</span>"
   ]
  },
  {
   "cell_type": "markdown",
   "metadata": {},
   "source": []
  },
  {
   "cell_type": "markdown",
   "metadata": {},
   "source": [
    "**Instruction:** Type these lines below. What was displayed?"
   ]
  },
  {
   "cell_type": "code",
   "execution_count": null,
   "metadata": {
    "tags": []
   },
   "outputs": [
    {
     "name": "stdout",
     "output_type": "stream",
     "text": [
      "Hello World!!\n"
     ]
    }
   ],
   "source": [
    "# This is a comment.\n",
    "# It will not do anything.\n",
    "# Comments are to clarify code and are not interpreted by Python\n",
    "print(\"Hello World!!\") # this is a greeting\n",
    "print(\"hello\")\n",
    "#hello"
   ]
  },
  {
   "cell_type": "markdown",
   "metadata": {},
   "source": [
    "**Exercise:** Print several sentences and add a comment after each print command."
   ]
  },
  {
   "cell_type": "markdown",
   "metadata": {},
   "source": [
    "---\n",
    "### <span style=\"color:#0b486b\">3. Variables and types</span>"
   ]
  },
  {
   "cell_type": "markdown",
   "metadata": {},
   "source": [
    "Variable names in Python can contain alphanumerical characters a-z, A-Z, 0-9 and some special characters such as _. Normal variable names must start with a letter.\n",
    "By convension, variable names start with a lower-case letter, and Class names start with a capital letter."
   ]
  },
  {
   "cell_type": "markdown",
   "metadata": {},
   "source": [
    "#### <span style=\"color:#0b486b\">3.1 Assignment</span>"
   ]
  },
  {
   "cell_type": "markdown",
   "metadata": {},
   "source": [
    "The assignment operator in Python is `'='`. Python is a dynamically typed language, so you do not need to specify the type of the variable while creating it.\n",
    "\n",
    "Assigning a value to a new variable creates the variable:\n",
    "\n",
    "**Instruction:** Execute the lines below (click Run button) to see the output. "
   ]
  },
  {
   "cell_type": "code",
   "execution_count": 1,
   "metadata": {
    "tags": []
   },
   "outputs": [
    {
     "name": "stdout",
     "output_type": "stream",
     "text": [
      "x =  10\n",
      "y = I am a string -> 10\n",
      "y = I am a string -> 10\n",
      "y =  I am a string\n"
     ]
    }
   ],
   "source": [
    "# variable assignment\n",
    "\n",
    "x = 10\n",
    "y = \"I am a string\"\n",
    "\n",
    "print(\"x = \", x)         \n",
    "print(\"y = {0} -> {1}\".format(y,x))\n",
    "print(f\"y = {y} -> {x}\")\n",
    "print(\"y = \", y)"
   ]
  },
  {
   "cell_type": "markdown",
   "metadata": {},
   "source": [
    "Although not explicitly specified, a variable does have a type associated with it. The type is derived from the value that was assigned to it."
   ]
  },
  {
   "cell_type": "code",
   "execution_count": 2,
   "metadata": {
    "tags": []
   },
   "outputs": [
    {
     "data": {
      "text/plain": [
       "int"
      ]
     },
     "execution_count": 2,
     "metadata": {},
     "output_type": "execute_result"
    }
   ],
   "source": [
    "type(y)\n",
    "type(x)"
   ]
  },
  {
   "cell_type": "markdown",
   "metadata": {},
   "source": [
    "**Exercise:** Write a piece of code that declares a variable called `'my_var'` and assign the value 25 to it. Then print its value."
   ]
  },
  {
   "cell_type": "code",
   "execution_count": 3,
   "metadata": {},
   "outputs": [
    {
     "name": "stdout",
     "output_type": "stream",
     "text": [
      "25\n"
     ]
    }
   ],
   "source": [
    "my_var = 25\n",
    "print(my_var)"
   ]
  },
  {
   "cell_type": "markdown",
   "metadata": {},
   "source": [
    "#### <span style=\"color:#0b486b\">3.2 Re-assignment</span>"
   ]
  },
  {
   "cell_type": "markdown",
   "metadata": {},
   "source": [
    "We can update a variable by assigning a new value to that same variable name, which will change the value.\n",
    "\n",
    "**Instruction:** Execute the lines below to see the output"
   ]
  },
  {
   "cell_type": "code",
   "execution_count": 4,
   "metadata": {},
   "outputs": [
    {
     "name": "stdout",
     "output_type": "stream",
     "text": [
      "14\n"
     ]
    }
   ],
   "source": [
    "x = 10\n",
    "x = 12\n",
    "x = x + 2\n",
    "print(x)"
   ]
  },
  {
   "cell_type": "markdown",
   "metadata": {},
   "source": [
    "#### <span style=\"color:#0b486b\">3.2 Fundamental types</span>"
   ]
  },
  {
   "cell_type": "code",
   "execution_count": 6,
   "metadata": {},
   "outputs": [
    {
     "data": {
      "text/plain": [
       "int"
      ]
     },
     "execution_count": 6,
     "metadata": {},
     "output_type": "execute_result"
    }
   ],
   "source": [
    "# integers\n",
    "x = 1\n",
    "type(x)"
   ]
  },
  {
   "cell_type": "code",
   "execution_count": 7,
   "metadata": {},
   "outputs": [
    {
     "data": {
      "text/plain": [
       "float"
      ]
     },
     "execution_count": 7,
     "metadata": {},
     "output_type": "execute_result"
    }
   ],
   "source": [
    "# float\n",
    "x = 1.0\n",
    "type(x)"
   ]
  },
  {
   "cell_type": "code",
   "execution_count": 10,
   "metadata": {
    "tags": []
   },
   "outputs": [
    {
     "data": {
      "text/plain": [
       "bool"
      ]
     },
     "execution_count": 10,
     "metadata": {},
     "output_type": "execute_result"
    }
   ],
   "source": [
    "# boolean\n",
    "b1 = True\n",
    "b2 = False\n",
    "\n",
    "type(b1)"
   ]
  },
  {
   "cell_type": "markdown",
   "metadata": {},
   "source": [
    "**Exercise:** Write a piece of code that declares a variable called `'my_float'` and assign the value 25 to it. Then print its value and type. What is its type? What do you need to do to make it a float instead of int?"
   ]
  },
  {
   "cell_type": "code",
   "execution_count": 6,
   "metadata": {},
   "outputs": [
    {
     "name": "stdout",
     "output_type": "stream",
     "text": [
      "value = 25, type = <class 'int'>\n",
      " updated value = 25.0, update type = <class 'float'>\n"
     ]
    }
   ],
   "source": [
    "my_float = 25\n",
    "print(f\"value = {my_float}, type = {type(my_float)}\")\n",
    "my_float = float(25)\n",
    "print(f\" updated value = {my_float}, update type = {type(my_float)}\")"
   ]
  },
  {
   "cell_type": "markdown",
   "metadata": {},
   "source": [
    "---\n",
    "### <span style=\"color:#0b486b\">4. Operators</span>"
   ]
  },
  {
   "cell_type": "markdown",
   "metadata": {},
   "source": [
    "#### <span style=\"color:#0b486b\">4.1 Arithmetic operators</span>"
   ]
  },
  {
   "cell_type": "markdown",
   "metadata": {},
   "source": [
    "* addition:         x + y\n",
    "* subtraction:      x - y\n",
    "* multiplication:   x*y\n",
    "* division:         x/y\n",
    "* floor division:   x//y  (round the answer to the near integer)\n",
    "* modulus:          x%y   (remainder of x divided by y)\n",
    "* exponent:         x**y  (raise x to the power of y)"
   ]
  },
  {
   "cell_type": "code",
   "execution_count": 10,
   "metadata": {},
   "outputs": [
    {
     "name": "stdout",
     "output_type": "stream",
     "text": [
      "x + y =  27\n",
      "x - y =  19\n",
      "x * y =  92\n",
      "x / y =  5.75\n"
     ]
    }
   ],
   "source": [
    "x = 23\n",
    "y = 4\n",
    "print ('x + y = ', x+y)\n",
    "print ('x - y = ', x-y)\n",
    "print ('x * y = ', x*y)\n",
    "print ('x / y = ', x/y)"
   ]
  },
  {
   "cell_type": "markdown",
   "metadata": {},
   "source": [
    "**Note:** This is Python 3 code. The previous versions of Python behave differently - the division of one integer by another in Python 2 will yield an int, even if the expected result is not a whole number! This Python 2 behaviour is like integer division (//) in Python 3. We use Python 3 in this unit."
   ]
  },
  {
   "cell_type": "code",
   "execution_count": 11,
   "metadata": {},
   "outputs": [
    {
     "name": "stdout",
     "output_type": "stream",
     "text": [
      "x//y= 2\n",
      "x%y= 1\n"
     ]
    }
   ],
   "source": [
    "x = 5\n",
    "y = 2\n",
    "print('x//y=',x//y)\n",
    "\n",
    "print('x%y=',x%y)\n",
    "\n"
   ]
  },
  {
   "cell_type": "markdown",
   "metadata": {},
   "source": [
    "**Exercise:** Try at least one example for each operator. Write a comment before the example to explain which operator you are entering."
   ]
  },
  {
   "cell_type": "code",
   "execution_count": 7,
   "metadata": {},
   "outputs": [
    {
     "name": "stdout",
     "output_type": "stream",
     "text": [
      "x**y= 15\n",
      "x/y= 0.6\n"
     ]
    }
   ],
   "source": [
    "x = 3\n",
    "y = 5\n",
    "print('x**y=', x*y)\n",
    "print('x/y=', x/y)"
   ]
  },
  {
   "cell_type": "markdown",
   "metadata": {},
   "source": [
    "---\n",
    "#### <span style=\"color:#0b486b\">4.2 Boolean operators</span>\n",
    "The boolean operators are spelled out as words `and`, `not`, `or`. Try the lines below:"
   ]
  },
  {
   "cell_type": "code",
   "execution_count": 12,
   "metadata": {},
   "outputs": [
    {
     "name": "stdout",
     "output_type": "stream",
     "text": [
      "False\n",
      "True\n",
      "False\n",
      "\n",
      "True\n",
      "True\n",
      "False\n"
     ]
    }
   ],
   "source": [
    "print(True and False)\n",
    "print(True and True)\n",
    "print(False and False)\n",
    "print()\n",
    "print(True or False)\n",
    "print(True or True)\n",
    "print(False or False)\n",
    "\n"
   ]
  },
  {
   "cell_type": "code",
   "execution_count": 13,
   "metadata": {},
   "outputs": [
    {
     "data": {
      "text/plain": [
       "True"
      ]
     },
     "execution_count": 13,
     "metadata": {},
     "output_type": "execute_result"
    }
   ],
   "source": [
    "not False"
   ]
  },
  {
   "cell_type": "code",
   "execution_count": 14,
   "metadata": {},
   "outputs": [
    {
     "data": {
      "text/plain": [
       "True"
      ]
     },
     "execution_count": 14,
     "metadata": {},
     "output_type": "execute_result"
    }
   ],
   "source": [
    "True or False"
   ]
  },
  {
   "cell_type": "markdown",
   "metadata": {},
   "source": [
    "---\n",
    "#### <span style=\"color:#0b486b\">4.3 Comparison operators</span>\n",
    "Comparison operators >, <, >= (greater or equal), <= (less or equal), == (equality), and is (identical)"
   ]
  },
  {
   "cell_type": "code",
   "execution_count": 15,
   "metadata": {},
   "outputs": [
    {
     "data": {
      "text/plain": [
       "(True, False)"
      ]
     },
     "execution_count": 15,
     "metadata": {},
     "output_type": "execute_result"
    }
   ],
   "source": [
    "2 > 1, 2 < 1"
   ]
  },
  {
   "cell_type": "code",
   "execution_count": 16,
   "metadata": {},
   "outputs": [
    {
     "data": {
      "text/plain": [
       "(False, False)"
      ]
     },
     "execution_count": 16,
     "metadata": {},
     "output_type": "execute_result"
    }
   ],
   "source": [
    "2 > 2, 2 < 2"
   ]
  },
  {
   "cell_type": "code",
   "execution_count": 17,
   "metadata": {},
   "outputs": [
    {
     "data": {
      "text/plain": [
       "(True, True)"
      ]
     },
     "execution_count": 17,
     "metadata": {},
     "output_type": "execute_result"
    }
   ],
   "source": [
    "2 >= 2, 2 <= 2"
   ]
  },
  {
   "cell_type": "code",
   "execution_count": 8,
   "metadata": {
    "tags": []
   },
   "outputs": [
    {
     "name": "stdout",
     "output_type": "stream",
     "text": [
      "False\n",
      "False\n",
      "True\n"
     ]
    }
   ],
   "source": [
    "a = [1, 2, 3]\n",
    "b = [1, 2, 3, 4]\n",
    "c = a\n",
    "\n",
    "print(a == b)  # Output: True, as the values of a and b are the same\n",
    "print(a is b)  # Output: False, as a and b are different objects in memory\n",
    "print(a is c)  # Output: True, as both a and c point to the same memory address, and are therefore the same object"
   ]
  },
  {
   "cell_type": "markdown",
   "metadata": {
    "tags": []
   },
   "source": [
    "---\n",
    "### <span style=\"color:#0b486b\">5. Compound Types</span>"
   ]
  },
  {
   "cell_type": "markdown",
   "metadata": {},
   "source": [
    "#### 5.1 List"
   ]
  },
  {
   "cell_type": "markdown",
   "metadata": {},
   "source": [
    "List is the most versatile datatype available in Python which can be written as a sequence of comma-separated values (items) between square brackets. Important thing about a list is that items in a list need not be of the same type.\n",
    "\n",
    "The syntax for creating lists in Python is `my_list = [item_0, item_1, ..., item_n]`:"
   ]
  },
  {
   "cell_type": "code",
   "execution_count": 39,
   "metadata": {
    "tags": []
   },
   "outputs": [
    {
     "name": "stdout",
     "output_type": "stream",
     "text": [
      "type(l) -> <class 'list'>\n",
      "l -> [10, 2, 30, 4, 50, 6, 70, 8, 9, 1052, 675, 2, 12]\n",
      "len(l) -> 13\n",
      "l -> [10, 2, 5, 4, 50, 6, 70, 8, 9, 1052, 675, 2, 12]\n",
      "l[2:6:1] -> [5, 4, 50, 6]\n",
      "l[:5] -> [10, 2, 5, 4, 50]\n",
      "l[2:12:3] [5, 6, 9, 2]\n"
     ]
    }
   ],
   "source": [
    "l = [10, 2, 30, 4, 50, 6, 70, 8, 9, 1052, 675, 2, 12]\n",
    "print(\"type(l) -> {}\".format(type(l)))\n",
    "print(\"l -> {}\".format(l))\n",
    "print(\"len(l) -> {}\".format(len(l)))\n",
    "l[2]=5\n",
    "print(\"l -> {}\".format(l))\n",
    "\n",
    "# l[beginning:end:stride] \n",
    "\n",
    "print(\"l[2:6:1] -> {}\".format(l[2:6:1]))\n",
    "print(\"l[:5] -> {}\".format(l[:5]))\n",
    "print(\"l[2:12:3] {}\".format(l[2:12:3]))"
   ]
  },
  {
   "cell_type": "markdown",
   "metadata": {},
   "source": [
    "Elements of a list do not have to be the same type."
   ]
  },
  {
   "cell_type": "code",
   "execution_count": 41,
   "metadata": {
    "tags": []
   },
   "outputs": [
    {
     "name": "stdout",
     "output_type": "stream",
     "text": [
      "<class 'str'>\n",
      "<class 'list'>\n"
     ]
    }
   ],
   "source": [
    "l1 = [1, 'a', 1.0, 1-1j]\n",
    "l2 = [1, 2, [3, 4], 5]\n",
    "print(type(l1[1]))\n",
    "print(type(l2[2]))"
   ]
  },
  {
   "cell_type": "markdown",
   "metadata": {},
   "source": [
    "##### 5.1.1 List indexing \n",
    "\n",
    "You can index an item from a list using `[]` operator. `my_list[i]` returns the ith item of `my_list`:"
   ]
  },
  {
   "cell_type": "code",
   "execution_count": 20,
   "metadata": {},
   "outputs": [
    {
     "name": "stdout",
     "output_type": "stream",
     "text": [
      "1\n",
      "4\n",
      "8\n",
      "7\n"
     ]
    }
   ],
   "source": [
    "# indexing\n",
    "l = [1, 2, 3, 4, 5, 6, 7, 8]\n",
    "\n",
    "print(l[0])\n",
    "print(l[3])\n",
    "print(l[-1])    # last element\n",
    "print(l[-2])    # can you guess the result?"
   ]
  },
  {
   "cell_type": "markdown",
   "metadata": {},
   "source": [
    "**Heads up MATLAB users:** Indexing start at 0!\n",
    "\n",
    "**Exercise:** define a list with multiple items of different types. Let the last item be another list equal to `['apple', 'orange', 'banana', 'pear']`. How can you index `'banana'`? Use list indexing and print it."
   ]
  },
  {
   "cell_type": "code",
   "execution_count": 9,
   "metadata": {},
   "outputs": [
    {
     "name": "stdout",
     "output_type": "stream",
     "text": [
      "banana\n"
     ]
    }
   ],
   "source": [
    "fruits = [0.5, 2, ['apple', 'banana', 'orange']]\n",
    "print(fruits[2][1])"
   ]
  },
  {
   "cell_type": "markdown",
   "metadata": {},
   "source": [
    "---\n",
    "#### 5.2 String"
   ]
  },
  {
   "cell_type": "markdown",
   "metadata": {},
   "source": [
    "Strings are used for storing text messages. They are very similar to lists, lists of characters."
   ]
  },
  {
   "cell_type": "code",
   "execution_count": 21,
   "metadata": {},
   "outputs": [
    {
     "name": "stdout",
     "output_type": "stream",
     "text": [
      "<class 'str'>\n",
      "12\n"
     ]
    }
   ],
   "source": [
    "s = \"Hello world!\"\n",
    "print(type(s))\n",
    "\n",
    "# length of the string: the number of characters\n",
    "print(len(s))"
   ]
  },
  {
   "cell_type": "markdown",
   "metadata": {},
   "source": [
    "You can index a character in a string using `[]` similar to lists."
   ]
  },
  {
   "cell_type": "code",
   "execution_count": 22,
   "metadata": {},
   "outputs": [
    {
     "name": "stdout",
     "output_type": "stream",
     "text": [
      "l\n",
      "H\n"
     ]
    }
   ],
   "source": [
    "# indexing\n",
    "s = \"Hello world!\"\n",
    "\n",
    "print(s[3])\n",
    "print(s[0])"
   ]
  },
  {
   "cell_type": "markdown",
   "metadata": {},
   "source": [
    "**Exercise:** define a string with value equal to `\"Python is fun!\"`. How can you index the character `'s'`?"
   ]
  },
  {
   "cell_type": "code",
   "execution_count": 12,
   "metadata": {},
   "outputs": [
    {
     "name": "stdout",
     "output_type": "stream",
     "text": [
      "s\n"
     ]
    }
   ],
   "source": [
    "string = 'Python is fun!'\n",
    "string_index = string.find('s')\n",
    "print(string[string_index])\n"
   ]
  },
  {
   "cell_type": "markdown",
   "metadata": {},
   "source": [
    "##### 5.2.1 List/string slicing\n",
    "\n",
    "You can extract a part of a list/string using the syntax `[start:stop]`, which extracts characters between index `start` and `stop`."
   ]
  },
  {
   "cell_type": "code",
   "execution_count": null,
   "metadata": {},
   "outputs": [
    {
     "name": "stdout",
     "output_type": "stream",
     "text": [
      "[3, 4, 5]\n",
      "This i\n"
     ]
    }
   ],
   "source": [
    "# slicing\n",
    "l = [1, 2, 3, 4, 5, 6, 7, 8]\n",
    "s = \"This is a string.\"\n",
    "\n",
    "print(l[2:5])\n",
    "print(s[0:6])"
   ]
  },
  {
   "cell_type": "markdown",
   "metadata": {},
   "source": [
    "You can also define a step for slicing as in `[start:stop:step]`:"
   ]
  },
  {
   "cell_type": "code",
   "execution_count": 24,
   "metadata": {},
   "outputs": [
    {
     "name": "stdout",
     "output_type": "stream",
     "text": [
      "is is a \n",
      "\n",
      "Ti sa\n",
      "Ti sa\n"
     ]
    }
   ],
   "source": [
    "# [start:stop:step]\n",
    "print(s[2:10:1])\n",
    "print()\n",
    "\n",
    "# These two are equal\n",
    "print(s[0:10:2])\n",
    "print(s[:10:2])"
   ]
  },
  {
   "cell_type": "markdown",
   "metadata": {},
   "source": [
    "`Slicing Step` can be a negative value as well:"
   ]
  },
  {
   "cell_type": "code",
   "execution_count": 4,
   "metadata": {
    "tags": []
   },
   "outputs": [
    {
     "name": "stdout",
     "output_type": "stream",
     "text": [
      "[8, 7, 6, 5, 4]\n",
      "halb-halb god yzaL\n",
      "['Lazy dog', 'Lazy cat']\n",
      "['Lazy cat', 'Lazy dog']\n"
     ]
    }
   ],
   "source": [
    "l = [1, 2, 3, 4, 5, 6, 7, 8]\n",
    "str1 = \"Lazy dog blah-blah\"\n",
    "\n",
    "print(l[7:2:-1])\n",
    "print(str1[::-1])\n",
    "\n",
    "list_of_strings = [\"Lazy dog\", \"Lazy cat\"]\n",
    "print(list_of_strings)\n",
    "print(list_of_strings[::-1])\n"
   ]
  },
  {
   "cell_type": "markdown",
   "metadata": {},
   "source": [
    "**Exercise:** define a string with value equal to `\"Python is fun!\"`. How can you print every third character of it?"
   ]
  },
  {
   "cell_type": "code",
   "execution_count": 14,
   "metadata": {},
   "outputs": [
    {
     "name": "stdout",
     "output_type": "stream",
     "text": [
      "Ph  n\n"
     ]
    }
   ],
   "source": [
    "string = \"Python is fun!\"\n",
    "print(string[::3])"
   ]
  },
  {
   "cell_type": "markdown",
   "metadata": {},
   "source": [
    "---\n",
    "#### 5.3 Tuples"
   ]
  },
  {
   "cell_type": "markdown",
   "metadata": {},
   "source": [
    "Tuples are like lists, except that they cannot be modified once created, that is they are *immutable*. \n",
    "\n",
    "In Python, tuples are created using the syntax `(..., ..., ...)`, or even `..., ...`:"
   ]
  },
  {
   "cell_type": "code",
   "execution_count": 51,
   "metadata": {
    "tags": []
   },
   "outputs": [
    {
     "ename": "SyntaxError",
     "evalue": "cannot assign to function call here. Maybe you meant '==' instead of '='? (1517992508.py, line 11)",
     "output_type": "error",
     "traceback": [
      "\u001b[0;36m  Input \u001b[0;32mIn [51]\u001b[0;36m\u001b[0m\n\u001b[0;31m    states(1)=\"Italy\"\u001b[0m\n\u001b[0m    ^\u001b[0m\n\u001b[0;31mSyntaxError\u001b[0m\u001b[0;31m:\u001b[0m cannot assign to function call here. Maybe you meant '==' instead of '='?\n"
     ]
    }
   ],
   "source": [
    "# TUPLE\n",
    "# A tuple is a *fixed* list. We can't change its values\n",
    "\n",
    "states = ('VIC', 'NSW', 'QLD', 'WA', 'ACT', 'NT', 'TAS', 'SA')\n",
    "states_list = ['VIC', 'NSW', 'QLD', 'WA', 'ACT', 'NT', 'TAS', 'SA']\n",
    "\n",
    "states_list[1]=\"Italy\"\n",
    "\n",
    "print(states_list)\n",
    "\n",
    "states(1)=\"Italy\"\n",
    "\n",
    "print(states)\n",
    "\n",
    "print()\n",
    "\n",
    "\n",
    "print(\"type of states: {}\".format(type(states)))\n",
    "\n",
    "print(\"Australian states\")\n",
    "for i in range(0,7):\n",
    "    print(states[i])"
   ]
  },
  {
   "cell_type": "markdown",
   "metadata": {},
   "source": [
    "**Exercise:** create a list with items as days of the week and call it `'my_list'`. Now create a tuple with items as days of the week and call it `'my_tuple'`. Alter values of `'my_list'` such that instead of Monday, you have 1. Can you do the same thing with `'my_tuple'`?"
   ]
  },
  {
   "cell_type": "code",
   "execution_count": 17,
   "metadata": {},
   "outputs": [
    {
     "name": "stdout",
     "output_type": "stream",
     "text": [
      " You cannot do this as tumples are immutable: my_tuple[0] = 1\n"
     ]
    }
   ],
   "source": [
    "my_list = ['Monday', 'Tuesday', 'Wednesday', 'Thursday', 'Friday', 'Saturday', 'Sunday']\n",
    "my_tuple = ('Monday', 'Tuesday', 'Wednesday', 'Thursday', 'Friday', 'Saturday', 'Sunday')\n",
    "my_list[0] = 1\n",
    "print(f\" You cannot do this as tumples are immutable: my_tuple[0] = 1\")"
   ]
  },
  {
   "cell_type": "markdown",
   "metadata": {},
   "source": [
    "---\n",
    "#### 5.4 Dictionaries"
   ]
  },
  {
   "cell_type": "markdown",
   "metadata": {},
   "source": [
    "Dictionaries are similar to lists, except that each element is a key-value pair. The syntax for dictionaries is `{key1 : value1, ...}`. Note that the values can be of any type, even another dictionary."
   ]
  },
  {
   "cell_type": "code",
   "execution_count": 52,
   "metadata": {
    "tags": []
   },
   "outputs": [
    {
     "name": "stdout",
     "output_type": "stream",
     "text": [
      "<class 'dict'>\n",
      "{'parameter1': 1.0, 'parameter2': 'a string', 'parameter3': [1, 2, 3]}\n"
     ]
    }
   ],
   "source": [
    "params = {\"parameter1\" : 1.0,\n",
    "          \"parameter2\" : \"a string\",\n",
    "          \"parameter3\" : [1,2,3]}\n",
    "\n",
    "print(type(params))\n",
    "print(params)"
   ]
  },
  {
   "cell_type": "markdown",
   "metadata": {},
   "source": [
    "You can access and manipulate the values of a dictionary using its keys."
   ]
  },
  {
   "cell_type": "code",
   "execution_count": 54,
   "metadata": {
    "tags": []
   },
   "outputs": [
    {
     "name": "stdout",
     "output_type": "stream",
     "text": [
      "python is a programming language\n",
      "phone is a communication device\n",
      "{'a': 2, 'python': 'a programming language'}\n",
      "{}\n"
     ]
    }
   ],
   "source": [
    "my_dictionary = {\"a\":2, \n",
    "                 \"python\": \"a programming language\",\n",
    "                 \"phone\": \"a communication device\"}\n",
    "\n",
    "# access value of a dictionary dictionary['key']\n",
    "print(\"python is\", my_dictionary[\"python\"])\n",
    "print(\"phone is\", my_dictionary[\"phone\"])\n",
    "\n",
    "# remove an element\n",
    "del my_dictionary[\"phone\"]\n",
    "print(my_dictionary)\n",
    "\n",
    "# clear the dictionary\n",
    "my_dictionary.clear()\n",
    "print(my_dictionary)"
   ]
  },
  {
   "cell_type": "markdown",
   "metadata": {},
   "source": [
    "**Exercise:** create a dictionary called `'my_dict'` with keys `'first_name, last_name, age, favorite_singer'` and fill the values. Now alter the value of `'favorite_singer'` and change it to `'Justin Bieber'`! \n",
    "\n",
    "Can you add a key `'seriously'` and fill the value with a boolean?"
   ]
  },
  {
   "cell_type": "code",
   "execution_count": 18,
   "metadata": {},
   "outputs": [
    {
     "name": "stdout",
     "output_type": "stream",
     "text": [
      "{'first_name': 'juan', 'last_name': 'perez', 'age': 30, 'favorite_singer': 'Justin Bieber', 'seriously': True}\n"
     ]
    }
   ],
   "source": [
    "my_dict = {\"first_name\": \"juan\",\n",
    "           \"last_name\": \"perez\",\n",
    "           \"age\": 30,\n",
    "           \"favorite_singer\": \"Luis Miguel\"}\n",
    "my_dict[\"favorite_singer\"] = \"Justin Bieber\"\n",
    "my_dict['seriously'] = True\n",
    "print(my_dict)"
   ]
  },
  {
   "cell_type": "markdown",
   "metadata": {},
   "source": [
    "---\n",
    "### <span style=\"color:#0b486b\">6 Control flow</span>"
   ]
  },
  {
   "cell_type": "markdown",
   "metadata": {},
   "source": [
    "#### <span style=\"color:#0b486b\">6.1 Conditional statements: if, elif, else</span>"
   ]
  },
  {
   "cell_type": "markdown",
   "metadata": {},
   "source": [
    "The Python syntax for conditional execution of code use the keywords `if`, `elif` (else if), `else`. Python code blocks are defined by their indentation level."
   ]
  },
  {
   "cell_type": "code",
   "execution_count": null,
   "metadata": {},
   "outputs": [],
   "source": [
    "statement1 = False\n",
    "statement2 = False\n",
    "\n",
    "if statement1:\n",
    "    print(\"statement1 is True\")\n",
    "    \n",
    "elif statement2:\n",
    "    print(\"statement2 is True\")\n",
    "    \n",
    "else:\n",
    "    print(\"statement1 and statement2 are False\")"
   ]
  },
  {
   "cell_type": "code",
   "execution_count": null,
   "metadata": {},
   "outputs": [],
   "source": [
    "# nothing happens\n",
    "statement1 = False \n",
    "\n",
    "if statement1:\n",
    "    print(\"printed if statement1 is True\")\n",
    "    \n",
    "    print(\"still inside the if block\")"
   ]
  },
  {
   "cell_type": "code",
   "execution_count": null,
   "metadata": {},
   "outputs": [],
   "source": [
    "if statement1:\n",
    "    print(\"printed if statement1 is True\")\n",
    "    \n",
    "print(\"now outside the if block\")"
   ]
  },
  {
   "cell_type": "markdown",
   "metadata": {},
   "source": [
    "**Exercise:** Write a piece of code that declares two variables called `'is_raining'` and `'is_sunny'`, and assign a Boolean value to each of them. If both variables are True then print `'Is there a rainbow?'`."
   ]
  },
  {
   "cell_type": "code",
   "execution_count": 20,
   "metadata": {},
   "outputs": [
    {
     "name": "stdout",
     "output_type": "stream",
     "text": [
      "Is there a rainbow?\n"
     ]
    }
   ],
   "source": [
    "is_raining = True\n",
    "is_sunny = True\n",
    "\n",
    "if is_raining and is_sunny:\n",
    "    print(\"Is there a rainbow?\")\n"
   ]
  },
  {
   "cell_type": "code",
   "execution_count": null,
   "metadata": {},
   "outputs": [],
   "source": [
    "is_raining = True\n",
    "is_sunny = False\n",
    "if is_raining and is_sunny:\n",
    "    print(\"Is there a rainbow?\")\n",
    "    "
   ]
  }
 ],
 "metadata": {
  "kernelspec": {
   "display_name": "base",
   "language": "python",
   "name": "python3"
  },
  "language_info": {
   "codemirror_mode": {
    "name": "ipython",
    "version": 3
   },
   "file_extension": ".py",
   "mimetype": "text/x-python",
   "name": "python",
   "nbconvert_exporter": "python",
   "pygments_lexer": "ipython3",
   "version": "3.12.2"
  }
 },
 "nbformat": 4,
 "nbformat_minor": 4
}
