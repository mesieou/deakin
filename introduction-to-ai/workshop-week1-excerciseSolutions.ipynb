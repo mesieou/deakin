{
 "cells": [
  {
   "cell_type": "markdown",
   "metadata": {
    "tags": []
   },
   "source": [
    "# **Workshop Week 1 - Solution**\n",
    "## Introduction to Python - Part 1"
   ]
  },
  {
   "cell_type": "markdown",
   "metadata": {},
   "source": [
    "**Exercise:** Print several sentences and add a comment after each print command."
   ]
  },
  {
   "cell_type": "code",
   "execution_count": 1,
   "metadata": {},
   "outputs": [
    {
     "name": "stdout",
     "output_type": "stream",
     "text": [
      "Hello World!!\n",
      "Welcome to SIT 112 Data Science Concepts\n"
     ]
    }
   ],
   "source": [
    "print(\"Hello World!!\") # this is a greeting\n",
    "print(\"Welcome to SIT 112 Data Science Concepts\") # This is your first practical!"
   ]
  },
  {
   "cell_type": "markdown",
   "metadata": {},
   "source": [
    "**Exercise:** Write a piece of code that declares a variable called `'my_var'` and assign the value 25 to it. Then print its value."
   ]
  },
  {
   "cell_type": "code",
   "execution_count": 2,
   "metadata": {},
   "outputs": [
    {
     "name": "stdout",
     "output_type": "stream",
     "text": [
      "The value of my_var is 25\n"
     ]
    }
   ],
   "source": [
    "my_var = 25\n",
    "print(\"The value of my_var is\", my_var)"
   ]
  },
  {
   "cell_type": "markdown",
   "metadata": {},
   "source": [
    "**Exercise:** Write a piece of code that declares a variable called `'my_float'` and assign the value 25 to it. Then print its value and type. What is its type? What do you need to do to make it a float instead of int?"
   ]
  },
  {
   "cell_type": "code",
   "execution_count": 3,
   "metadata": {},
   "outputs": [
    {
     "name": "stdout",
     "output_type": "stream",
     "text": [
      "the type of my_float is <class 'int'>\n",
      "the type of my_float is <class 'float'>\n"
     ]
    }
   ],
   "source": [
    "my_float = 25\n",
    "print(\"the type of my_float is\", type(my_float))\n",
    "\n",
    "\"\"\"\n",
    "As you have noticed the type is not float. Why? Because 25 is an integer.\n",
    "To make myfloat a float type you should pass the value as 25. or 25.0 \n",
    "\"\"\"\n",
    "\n",
    "my_float = 25.\n",
    "print(\"the type of my_float is\", type(my_float))"
   ]
  },
  {
   "cell_type": "markdown",
   "metadata": {},
   "source": [
    "* addition:         x + y\n",
    "* subtraction:      x - y\n",
    "* multiplication:   x*y\n",
    "* division:         x/y\n",
    "* floor division:   x//y  (round the answer to the near integer)\n",
    "* modulus:          x%y   (remainder of x divided by y)\n",
    "* exponent:         x**y  (raise x to the power of y)\n",
    "\n",
    "**Exercise**: Try at least one example for each operator. Write a comment before the example to explain which operator you are entering."
   ]
  },
  {
   "cell_type": "code",
   "execution_count": 4,
   "metadata": {},
   "outputs": [
    {
     "name": "stdout",
     "output_type": "stream",
     "text": [
      "x + y = 13\n",
      "x - y = 7\n",
      "x * y = 30\n",
      "x / y = 3.3333333333333335\n",
      "x // y = 3\n",
      "x % y = 1\n",
      "x ** y = 1000\n"
     ]
    }
   ],
   "source": [
    "# This is an example of solutions\n",
    "x = 10\n",
    "y = 3\n",
    "\n",
    "# example of addition\n",
    "print('x + y =', x + y)\n",
    "\n",
    "# example of substraction\n",
    "print('x - y =', x - y)\n",
    "\n",
    "# example of multiplication\n",
    "print('x * y =', x * y)\n",
    "\n",
    "# example of division\n",
    "print('x / y =', x / y)\n",
    "\n",
    "# example of floor division\n",
    "print('x // y =', x //y)\n",
    "\n",
    "# example of modulus\n",
    "print('x % y =', x % y)\n",
    "\n",
    "# example of exponent\n",
    "print('x ** y =', x ** y)"
   ]
  },
  {
   "cell_type": "markdown",
   "metadata": {},
   "source": [
    "**Exercise:** define a list with multiple items of different types. Let the last item be another list equal to `['apple', 'orange', 'banana', 'pear']`. How can you index `'banana'`? Use list indexing and print it."
   ]
  },
  {
   "cell_type": "code",
   "execution_count": 1,
   "metadata": {
    "tags": []
   },
   "outputs": [
    {
     "name": "stdout",
     "output_type": "stream",
     "text": [
      "['apple', 'orange', 'banana', 'pear']\n",
      "banana\n"
     ]
    }
   ],
   "source": [
    "my_list = [1, 2.5, \"a string here\", [\"apple\", \"orange\", \"banana\", \"pear\"]]\n",
    "\n",
    "# we can index the last item with [-1]\n",
    "print(my_list[-1])\n",
    "\n",
    "# banana is the third item\n",
    "print(my_list[-1][2])"
   ]
  },
  {
   "cell_type": "markdown",
   "metadata": {},
   "source": [
    "**Exercise:** define a string with value equal to `\"Python is fun!\"`. How can you index the character `'s'`?"
   ]
  },
  {
   "cell_type": "code",
   "execution_count": 6,
   "metadata": {},
   "outputs": [
    {
     "name": "stdout",
     "output_type": "stream",
     "text": [
      "s\n"
     ]
    }
   ],
   "source": [
    "my_str = \"Python is fun!\"\n",
    "print(my_str[8])"
   ]
  },
  {
   "cell_type": "markdown",
   "metadata": {},
   "source": [
    "**Exercise:** define a string with value equal to `\"Python is fun!\"`. How can you print every third character of it?"
   ]
  },
  {
   "cell_type": "code",
   "execution_count": 7,
   "metadata": {},
   "outputs": [
    {
     "name": "stdout",
     "output_type": "stream",
     "text": [
      "ph  n\n"
     ]
    }
   ],
   "source": [
    "my_str = \"python is fun!\"\n",
    "print(my_str[::3])"
   ]
  },
  {
   "cell_type": "markdown",
   "metadata": {},
   "source": [
    "**Exercise:** create a list with items as days of the week and call it `'my_list'`. Now create a tuple with items as days of the week and call it `'my_tuple'`. Alter values of `'my_list'` such that instead of Monday, you have 1. Can you do the same thing with `'my_tuple'`?"
   ]
  },
  {
   "cell_type": "code",
   "execution_count": 8,
   "metadata": {},
   "outputs": [
    {
     "ename": "TypeError",
     "evalue": "'list' object is not callable",
     "output_type": "error",
     "traceback": [
      "\u001b[0;31m---------------------------------------------------------------------------\u001b[0m",
      "\u001b[0;31mTypeError\u001b[0m                                 Traceback (most recent call last)",
      "Input \u001b[0;32mIn [14]\u001b[0m, in \u001b[0;36m<cell line: 4>\u001b[0;34m()\u001b[0m\n\u001b[1;32m      1\u001b[0m my_list \u001b[38;5;241m=\u001b[39m [\u001b[38;5;124m'\u001b[39m\u001b[38;5;124mMon\u001b[39m\u001b[38;5;124m'\u001b[39m, \u001b[38;5;124m'\u001b[39m\u001b[38;5;124mTue\u001b[39m\u001b[38;5;124m'\u001b[39m, \u001b[38;5;124m'\u001b[39m\u001b[38;5;124mWed\u001b[39m\u001b[38;5;124m'\u001b[39m, \u001b[38;5;124m'\u001b[39m\u001b[38;5;124mThu\u001b[39m\u001b[38;5;124m'\u001b[39m, \u001b[38;5;124m'\u001b[39m\u001b[38;5;124mFri\u001b[39m\u001b[38;5;124m'\u001b[39m, \u001b[38;5;124m'\u001b[39m\u001b[38;5;124mSat\u001b[39m\u001b[38;5;124m'\u001b[39m, \u001b[38;5;124m'\u001b[39m\u001b[38;5;124mSun\u001b[39m\u001b[38;5;124m'\u001b[39m]\n\u001b[1;32m      2\u001b[0m my_tuple \u001b[38;5;241m=\u001b[39m (\u001b[38;5;124m'\u001b[39m\u001b[38;5;124mMon\u001b[39m\u001b[38;5;124m'\u001b[39m, \u001b[38;5;124m'\u001b[39m\u001b[38;5;124mTue\u001b[39m\u001b[38;5;124m'\u001b[39m, \u001b[38;5;124m'\u001b[39m\u001b[38;5;124mWed\u001b[39m\u001b[38;5;124m'\u001b[39m, \u001b[38;5;124m'\u001b[39m\u001b[38;5;124mThu\u001b[39m\u001b[38;5;124m'\u001b[39m, \u001b[38;5;124m'\u001b[39m\u001b[38;5;124mFri\u001b[39m\u001b[38;5;124m'\u001b[39m, \u001b[38;5;124m'\u001b[39m\u001b[38;5;124mSat\u001b[39m\u001b[38;5;124m'\u001b[39m, \u001b[38;5;124m'\u001b[39m\u001b[38;5;124mSun\u001b[39m\u001b[38;5;124m'\u001b[39m)\n\u001b[0;32m----> 4\u001b[0m \u001b[38;5;28;43mprint\u001b[39;49m\u001b[43m(\u001b[49m\u001b[43mmy_list\u001b[49m\u001b[43m)\u001b[49m\n\u001b[1;32m      5\u001b[0m \u001b[38;5;28mprint\u001b[39m(my_tuple)\n\u001b[1;32m      7\u001b[0m \u001b[38;5;66;03m# now we alter my_list\u001b[39;00m\n",
      "\u001b[0;31mTypeError\u001b[0m: 'list' object is not callable"
     ]
    }
   ],
   "source": [
    "my_list = ['Mon', 'Tue', 'Wed', 'Thu', 'Fri', 'Sat', 'Sun']\n",
    "my_tuple = ('Mon', 'Tue', 'Wed', 'Thu', 'Fri', 'Sat', 'Sun')\n",
    "\n",
    "print(my_list)\n",
    "print(my_tuple)\n",
    "\n",
    "# now we alter my_list\n",
    "my_list[0] = 1\n",
    "print()\n",
    "print(my_list)\n",
    "\n",
    "# but we can not do the same thing with my_tuple\n",
    "# because tuple is immutable, and we are not allowed to change\n",
    "# its values after they are set\n",
    "# the following line of code will raise a TypeError\n",
    "my_tuple[0] = 1"
   ]
  },
  {
   "cell_type": "markdown",
   "metadata": {},
   "source": [
    "**Exercise:** create a dictionary called `'my_dict'` with keys `'first_name, last_name, age, favorite_singer'` and fill the values. Now alter the value of `'favorite_singer'` and change it to `'Justin Bieber'`! \n",
    "\n",
    "Can you add a key `'seriously'` and fill the value with a boolean?"
   ]
  },
  {
   "cell_type": "code",
   "execution_count": 9,
   "metadata": {},
   "outputs": [
    {
     "name": "stdout",
     "output_type": "stream",
     "text": [
      "{'first_name': 'Adham', 'last_name': 'Beyki', 'age': 29, 'favorite_singer': 'Beth Hart'}\n",
      "{'first_name': 'Adham', 'last_name': 'Beyki', 'age': 29, 'favorite_singer': 'Justin Bieber'}\n",
      "{'first_name': 'Adham', 'last_name': 'Beyki', 'age': 29, 'favorite_singer': 'Justin Bieber', 'seriously': False}\n"
     ]
    }
   ],
   "source": [
    "my_dict = {\"first_name\": \"Adham\",\n",
    "           \"last_name\": \"Beyki\",\n",
    "           \"age\": 29,\n",
    "           \"favorite_singer\": \"Beth Hart\"\n",
    "          }\n",
    "\n",
    "print(my_dict)\n",
    "\n",
    "# This is how you alter the value of a key in a dictioinary\n",
    "my_dict[\"favorite_singer\"] = \"Justin Bieber\"\n",
    "\n",
    "print(my_dict)\n",
    "\n",
    "# This is how you add a key to the dictionary\n",
    "my_dict[\"seriously\"] = False\n",
    "\n",
    "print(my_dict)"
   ]
  },
  {
   "cell_type": "markdown",
   "metadata": {},
   "source": [
    "**Exercise:** Write a piece of code that declares two variables called `'is_raining'` and `'is_sunny'`, and assign a Boolean value to each of them. If both variables are True then print `'Is there a rainbow?'`."
   ]
  },
  {
   "cell_type": "code",
   "execution_count": null,
   "metadata": {},
   "outputs": [],
   "source": [
    "# There's no output for this example\n",
    "is_raining = True\n",
    "is_sunny = False\n",
    "\n",
    "if is_raining and is_sunny:\n",
    "    print('Is there a rainbow?')"
   ]
  },
  {
   "cell_type": "code",
   "execution_count": null,
   "metadata": {},
   "outputs": [
    {
     "name": "stdout",
     "output_type": "stream",
     "text": [
      "Is there a rainbow?\n"
     ]
    }
   ],
   "source": [
    "# another example:\n",
    "is_raining = True\n",
    "is_sunny = True\n",
    "\n",
    "if is_raining and is_sunny:\n",
    "    print('Is there a rainbow?')"
   ]
  }
 ],
 "metadata": {
  "kernelspec": {
   "display_name": "base",
   "language": "python",
   "name": "python3"
  },
  "language_info": {
   "codemirror_mode": {
    "name": "ipython",
    "version": 3
   },
   "file_extension": ".py",
   "mimetype": "text/x-python",
   "name": "python",
   "nbconvert_exporter": "python",
   "pygments_lexer": "ipython3",
   "version": "3.12.7"
  }
 },
 "nbformat": 4,
 "nbformat_minor": 4
}
