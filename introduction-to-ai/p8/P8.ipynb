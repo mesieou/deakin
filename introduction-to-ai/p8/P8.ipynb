{
 "cells": [
  {
   "cell_type": "markdown",
   "metadata": {
    "tags": []
   },
   "source": [
    "# **Task P8**\n",
    "## Analyzing Twitter Data using NLP\n",
    "\n",
    "##### This task focuses on analyzing user replies to Covid-19 news published on the social media platform X (formerly known as Twitter) using some basic natural language processing (NLP) techniques. \n",
    "\n",
    "##### The task uses the `replies.csv` dataset, which contains the information about user replies to the Covid-19 news posted on Twitter. The columns capture the content related to the individual replies such as `text` (the actual text content of the reply), `id` (a unique ID for the reply itself), `conversation_id` (linking the reply to a specific conversation thread), `in_reply_to_user_id` (identifying the target user of the reply), and `possibly_sensitive` (indicating if the content may be sensitive). Additional informaiton include `author_id` (the unique ID of the reply's author), `author_followers` (the count of the author's followers),`author_tweets` (total tweets made by the author), and `author_location` (the geographical location of the author). Moreover, engagement metrics are tracked through columns like `retweets`, `replies`, `likes`, and `quote_count`. Time and location metadata are captured by `created_at` and `geo`, respectively, with `account` specifying the account name of the news publishers (e.g., BBC).\n",
    "\n",
    "<img src=\"pic.png\" alt=\"SIT112 News Tweets!\" width=\"1800\" height=\"200\">"
   ]
  },
  {
   "cell_type": "markdown",
   "metadata": {
    "tags": []
   },
   "source": [
    "### A. Instructions\n",
    "\n",
    "1. `To complete this task, you must first study the solution notebook; then try to do it yourself. You can copy the solutions into ChatGPT and ask for clarification or more examples.`\n",
    "2. Complete and submit the TaskCompletionReport form in PDF format using Ontrack. You can do this by the end of Week 12, but feedback will only be provided for submissions received by 11 AM of the due date.\n",
    "3. Do **not** include the solution (yours or the one provided to you) in your submission.\n",
    "4. The workshops are the primary venue for you to seek help if you need any clarification/assitance. The tutors are there to help you complete and submit the tasks. Please avoid emailing your code or screenshots to the tutors outside workshop hours. \n",
    "5. Consider using online resources such as ChatGPT to strenghten your undertanding of the task. \n",
    "\n",
    "Good luck :)"
   ]
  },
  {
   "cell_type": "code",
   "execution_count": 1,
   "metadata": {
    "tags": []
   },
   "outputs": [
    {
     "name": "stdout",
     "output_type": "stream",
     "text": [
      "textblob module not found. Installing...\n",
      "Collecting textblob\n",
      "  Downloading textblob-0.19.0-py3-none-any.whl.metadata (4.4 kB)\n",
      "Requirement already satisfied: nltk>=3.9 in /opt/anaconda3/lib/python3.12/site-packages (from textblob) (3.9.1)\n",
      "Requirement already satisfied: click in /opt/anaconda3/lib/python3.12/site-packages (from nltk>=3.9->textblob) (8.1.7)\n",
      "Requirement already satisfied: joblib in /opt/anaconda3/lib/python3.12/site-packages (from nltk>=3.9->textblob) (1.4.2)\n",
      "Requirement already satisfied: regex>=2021.8.3 in /opt/anaconda3/lib/python3.12/site-packages (from nltk>=3.9->textblob) (2024.9.11)\n",
      "Requirement already satisfied: tqdm in /opt/anaconda3/lib/python3.12/site-packages (from nltk>=3.9->textblob) (4.66.5)\n",
      "Downloading textblob-0.19.0-py3-none-any.whl (624 kB)\n",
      "\u001b[2K   \u001b[38;2;114;156;31m━━━━━━━━━━━━━━━━━━━━━━━━━━━━━━━━━━━━━━━━\u001b[0m \u001b[32m624.3/624.3 kB\u001b[0m \u001b[31m7.5 MB/s\u001b[0m eta \u001b[36m0:00:00\u001b[0m\n",
      "\u001b[?25hInstalling collected packages: textblob\n",
      "Successfully installed textblob-0.19.0\n",
      "All required modules are installed.\n"
     ]
    }
   ],
   "source": [
    "import importlib\n",
    "import subprocess\n",
    "\n",
    "# The following lines should install all libraries you need - you can install the libraries manually if the script did not work \n",
    "required_modules = ['pandas', 'seaborn', 'matplotlib', 'numpy', 'datetime', 'sklearn', 'nltk', 'textblob', 'textblob', 'collections', 'numpy', 'warnings']\n",
    "for module in required_modules:\n",
    "    try:\n",
    "        importlib.import_module(module)\n",
    "    except ImportError:\n",
    "        print(f\"{module} module not found. Installing...\")\n",
    "        subprocess.check_call(['pip', 'install', module])\n",
    "\n",
    "print(\"All required modules are installed.\")\n",
    "\n",
    "import pandas as pd\n",
    "import numpy as np\n",
    "import matplotlib.pyplot as plt\n",
    "import seaborn as sns\n",
    "from sklearn.feature_extraction.text import CountVectorizer, TfidfVectorizer\n",
    "from sklearn.decomposition import LatentDirichletAllocation\n",
    "from textblob import TextBlob\n",
    "import datetime as dt\n",
    "from collections import Counter\n",
    "import re\n",
    "import warnings\n",
    "import nltk\n",
    "from nltk.corpus import stopwords\n",
    "\n",
    "warnings.filterwarnings('ignore')\n",
    "# Set the maximum number of columns and rows displayed\n",
    "pd.set_option('display.max_columns', None)  # None means no limit\n",
    "pd.set_option('display.max_rows', None)  # None means no limit\n",
    "# You can also adjust the width of each column and the maximum column width\n",
    "pd.set_option('display.max_colwidth', None)  # None means no truncation on column width"
   ]
  },
  {
   "cell_type": "markdown",
   "metadata": {},
   "source": [
    "### B. Write Python code that performs (answers) the following operations (questions) "
   ]
  },
  {
   "cell_type": "markdown",
   "metadata": {},
   "source": [
    "##### 1. Read the data from the .csv file into a DataFrame and display the first five rows."
   ]
  },
  {
   "cell_type": "code",
   "execution_count": 3,
   "metadata": {
    "tags": []
   },
   "outputs": [
    {
     "data": {
      "text/html": [
       "<div>\n",
       "<style scoped>\n",
       "    .dataframe tbody tr th:only-of-type {\n",
       "        vertical-align: middle;\n",
       "    }\n",
       "\n",
       "    .dataframe tbody tr th {\n",
       "        vertical-align: top;\n",
       "    }\n",
       "\n",
       "    .dataframe thead th {\n",
       "        text-align: right;\n",
       "    }\n",
       "</style>\n",
       "<table border=\"1\" class=\"dataframe\">\n",
       "  <thead>\n",
       "    <tr style=\"text-align: right;\">\n",
       "      <th></th>\n",
       "      <th>author_id</th>\n",
       "      <th>author_followers</th>\n",
       "      <th>author_tweets</th>\n",
       "      <th>author_location</th>\n",
       "      <th>id</th>\n",
       "      <th>conversation_id</th>\n",
       "      <th>source</th>\n",
       "      <th>in_reply_to_user_id</th>\n",
       "      <th>possibly_sensitive</th>\n",
       "      <th>text</th>\n",
       "      <th>created_at</th>\n",
       "      <th>geo</th>\n",
       "      <th>retweets</th>\n",
       "      <th>replies</th>\n",
       "      <th>likes</th>\n",
       "      <th>quote_count</th>\n",
       "      <th>account</th>\n",
       "    </tr>\n",
       "  </thead>\n",
       "  <tbody>\n",
       "    <tr>\n",
       "      <th>0</th>\n",
       "      <td>2</td>\n",
       "      <td>1</td>\n",
       "      <td>3827</td>\n",
       "      <td>NaN</td>\n",
       "      <td>1.480000e+18</td>\n",
       "      <td>1.480000e+18</td>\n",
       "      <td>NaN</td>\n",
       "      <td>2.604917e+07</td>\n",
       "      <td>False</td>\n",
       "      <td>@RobinLaRoca @guardian I don't want a payment.\\nI want the unvaxxed to pay every last red cent for public  hospital treatment rendered to them</td>\n",
       "      <td>2022-01-01T03:31:03Z</td>\n",
       "      <td>NaN</td>\n",
       "      <td>0</td>\n",
       "      <td>2</td>\n",
       "      <td>0</td>\n",
       "      <td>0</td>\n",
       "      <td>guardian</td>\n",
       "    </tr>\n",
       "    <tr>\n",
       "      <th>1</th>\n",
       "      <td>3</td>\n",
       "      <td>939</td>\n",
       "      <td>49244</td>\n",
       "      <td>Sheffield</td>\n",
       "      <td>1.480000e+18</td>\n",
       "      <td>1.480000e+18</td>\n",
       "      <td>NaN</td>\n",
       "      <td>8.781841e+07</td>\n",
       "      <td>False</td>\n",
       "      <td>@guardian I'm fine with that as long as they backdate the payments for everyone.</td>\n",
       "      <td>2022-01-01T00:42:39Z</td>\n",
       "      <td>{'place_id': '07e9c7d1954fff64'}</td>\n",
       "      <td>0</td>\n",
       "      <td>1</td>\n",
       "      <td>0</td>\n",
       "      <td>0</td>\n",
       "      <td>guardian</td>\n",
       "    </tr>\n",
       "    <tr>\n",
       "      <th>2</th>\n",
       "      <td>4</td>\n",
       "      <td>318</td>\n",
       "      <td>4519</td>\n",
       "      <td>Santiago, Chile</td>\n",
       "      <td>1.480000e+18</td>\n",
       "      <td>1.480000e+18</td>\n",
       "      <td>NaN</td>\n",
       "      <td>8.781841e+07</td>\n",
       "      <td>False</td>\n",
       "      <td>@guardian Yes, for big pharma</td>\n",
       "      <td>2022-01-01T00:37:59Z</td>\n",
       "      <td>NaN</td>\n",
       "      <td>1</td>\n",
       "      <td>0</td>\n",
       "      <td>1</td>\n",
       "      <td>0</td>\n",
       "      <td>guardian</td>\n",
       "    </tr>\n",
       "    <tr>\n",
       "      <th>3</th>\n",
       "      <td>5</td>\n",
       "      <td>2812</td>\n",
       "      <td>320641</td>\n",
       "      <td>Earth</td>\n",
       "      <td>1.480000e+18</td>\n",
       "      <td>1.480000e+18</td>\n",
       "      <td>NaN</td>\n",
       "      <td>1.367531e+06</td>\n",
       "      <td>False</td>\n",
       "      <td>@FoxNews a vaccine most Missourians won’t take</td>\n",
       "      <td>2022-01-01T07:39:51Z</td>\n",
       "      <td>NaN</td>\n",
       "      <td>0</td>\n",
       "      <td>0</td>\n",
       "      <td>5</td>\n",
       "      <td>0</td>\n",
       "      <td>FoxNews</td>\n",
       "    </tr>\n",
       "    <tr>\n",
       "      <th>4</th>\n",
       "      <td>6</td>\n",
       "      <td>350</td>\n",
       "      <td>1581</td>\n",
       "      <td>Conway, AR</td>\n",
       "      <td>1.480000e+18</td>\n",
       "      <td>1.480000e+18</td>\n",
       "      <td>NaN</td>\n",
       "      <td>1.190000e+18</td>\n",
       "      <td>False</td>\n",
       "      <td>@nikki6ixx1 @FoxNews I currently have Covid, im non vaccinated and feeling perfectly fine. Please explain to me how am I going to die because of this virus??</td>\n",
       "      <td>2022-01-01T13:30:39Z</td>\n",
       "      <td>NaN</td>\n",
       "      <td>0</td>\n",
       "      <td>2</td>\n",
       "      <td>0</td>\n",
       "      <td>0</td>\n",
       "      <td>FoxNews</td>\n",
       "    </tr>\n",
       "  </tbody>\n",
       "</table>\n",
       "</div>"
      ],
      "text/plain": [
       "   author_id  author_followers  author_tweets  author_location            id  \\\n",
       "0          2                 1           3827              NaN  1.480000e+18   \n",
       "1          3               939          49244        Sheffield  1.480000e+18   \n",
       "2          4               318           4519  Santiago, Chile  1.480000e+18   \n",
       "3          5              2812         320641            Earth  1.480000e+18   \n",
       "4          6               350           1581       Conway, AR  1.480000e+18   \n",
       "\n",
       "   conversation_id  source  in_reply_to_user_id  possibly_sensitive  \\\n",
       "0     1.480000e+18     NaN         2.604917e+07               False   \n",
       "1     1.480000e+18     NaN         8.781841e+07               False   \n",
       "2     1.480000e+18     NaN         8.781841e+07               False   \n",
       "3     1.480000e+18     NaN         1.367531e+06               False   \n",
       "4     1.480000e+18     NaN         1.190000e+18               False   \n",
       "\n",
       "                                                                                                                                                            text  \\\n",
       "0                 @RobinLaRoca @guardian I don't want a payment.\\nI want the unvaxxed to pay every last red cent for public  hospital treatment rendered to them   \n",
       "1                                                                               @guardian I'm fine with that as long as they backdate the payments for everyone.   \n",
       "2                                                                                                                                  @guardian Yes, for big pharma   \n",
       "3                                                                                                                 @FoxNews a vaccine most Missourians won’t take   \n",
       "4  @nikki6ixx1 @FoxNews I currently have Covid, im non vaccinated and feeling perfectly fine. Please explain to me how am I going to die because of this virus??   \n",
       "\n",
       "             created_at                               geo  retweets  replies  \\\n",
       "0  2022-01-01T03:31:03Z                               NaN         0        2   \n",
       "1  2022-01-01T00:42:39Z  {'place_id': '07e9c7d1954fff64'}         0        1   \n",
       "2  2022-01-01T00:37:59Z                               NaN         1        0   \n",
       "3  2022-01-01T07:39:51Z                               NaN         0        0   \n",
       "4  2022-01-01T13:30:39Z                               NaN         0        2   \n",
       "\n",
       "   likes  quote_count   account  \n",
       "0      0            0  guardian  \n",
       "1      0            0  guardian  \n",
       "2      1            0  guardian  \n",
       "3      5            0   FoxNews  \n",
       "4      0            0   FoxNews  "
      ]
     },
     "execution_count": 3,
     "metadata": {},
     "output_type": "execute_result"
    }
   ],
   "source": [
    "# write your code here\n",
    "data = pd.read_csv(\"replies.csv\")\n",
    "data.head(5)"
   ]
  },
  {
   "cell_type": "markdown",
   "metadata": {
    "tags": []
   },
   "source": [
    "##### 2. Clean the reply texts as listed below. You can use ChatGPT to generate regular expressions for these cleaning operations. \n",
    "\n",
    "- Remove @ Mentions: Strip out any @ mentions in the reply texts, which typically refer to other users and are not relevant for general analysis.\n",
    "- Remove Hashtags: Eliminate the '#' symbol but keep the subsequent text, which might be relevant for understanding the topic of the reply.\n",
    "- Remove Retweet Indicators: Remove any 'RT' symbols used to indicate retweets, as they do not contribute to text content.\n",
    "- Remove URLs: Strip out any web links (URLs), which are common in reply texts but irrelevant to text analysis.\n",
    "- Remove Punctuation: Eliminate all punctuation marks to reduce variability in the reply texts.\n",
    "- Convert to Lowercase: Standardize all reply texts to lowercase to ensure uniformity in the analysis."
   ]
  },
  {
   "cell_type": "code",
   "execution_count": null,
   "metadata": {
    "tags": []
   },
   "outputs": [],
   "source": [
    "# Write your code here\n",
    "def remove_text(text):\n",
    "    #removing @mentions from the text column\n",
    "    text = re.sub(r\"@\\w+\", \"\", text)\n",
    "\n",
    "    #removing #s from the text\n",
    "    text = re.sub(r\"#\", \"\", text)\n",
    "\n",
    "    #remove retweet indicator \"RT\"\n",
    "    text = re.sub(r\"RT\", \"\", text)\n",
    "    \n",
    "    #remove URLS\n",
    "    text = re.sub(r'https?://[^\\s<>\"]+|www\\.[^\\s<>\"]+', \"\", text)\n",
    "    \n",
    "    #remove puntuation\n",
    "    text = re.sub(r'[^\\w\\s]', \"\", text)\n",
    "\n",
    "    #convert all the text to lower case\n",
    "    text = text.lower()\n",
    "\n",
    "\n",
    "data[\"text\"] = data[\"text\"].apply(remove_text)\n",
    "\n"
   ]
  },
  {
   "cell_type": "markdown",
   "metadata": {},
   "source": [
    "##### 3. Remove from the reply texts the stopwords and the custom list of words that are unwanted:\n",
    "\n",
    "- Utilize a list of predefined stopwords from NLTK tailored for the English language (from nltk.corpus import stopwords).\n",
    "- Define a custom list of words to be excluded that are specifically irrelevant or overused in the reply texts.\n",
    "- Remove stopwords and custom words: filter out these words from the (reply) text to focus on more meaningful words for analysis."
   ]
  },
  {
   "cell_type": "code",
   "execution_count": 4,
   "metadata": {
    "tags": []
   },
   "outputs": [],
   "source": [
    "# Write your code here\n",
    "\n"
   ]
  },
  {
   "cell_type": "markdown",
   "metadata": {},
   "source": [
    "##### 4. What are the 5 most frequent words in the replies per account (news publisher, e.g., BBC)?"
   ]
  },
  {
   "cell_type": "code",
   "execution_count": 5,
   "metadata": {
    "tags": []
   },
   "outputs": [],
   "source": [
    "# Write your code here\n",
    "\n"
   ]
  },
  {
   "cell_type": "markdown",
   "metadata": {
    "tags": []
   },
   "source": [
    "##### 5. Classify the sentiment of each reply as positive, negative, or neutral based on the `text` column. Then visualize the ratio of the replies with positive, negative, or neutral sentiments per news publisher (account). \n"
   ]
  },
  {
   "cell_type": "code",
   "execution_count": 6,
   "metadata": {
    "tags": []
   },
   "outputs": [],
   "source": [
    "# Write your code here\n",
    "\n"
   ]
  },
  {
   "cell_type": "markdown",
   "metadata": {},
   "source": [
    "### C. Learn more\n",
    "* https://www.sciencedirect.com/science/article/pii/S2468696423000125\n",
    "* https://youtu.be/toM78JGJ_4s?si=8ESJ-yOV_H1iX74r\n",
    "* https://youtu.be/QpzMWQvxXWk?si=CPvNgnZo3jsW4HL5\n",
    "* https://youtu.be/o7OqhzMcDfs?si=9iFeYZq4TlVCMMRb"
   ]
  }
 ],
 "metadata": {
  "kernelspec": {
   "display_name": "base",
   "language": "python",
   "name": "python3"
  },
  "language_info": {
   "codemirror_mode": {
    "name": "ipython",
    "version": 3
   },
   "file_extension": ".py",
   "mimetype": "text/x-python",
   "name": "python",
   "nbconvert_exporter": "python",
   "pygments_lexer": "ipython3",
   "version": "3.12.7"
  }
 },
 "nbformat": 4,
 "nbformat_minor": 4
}
